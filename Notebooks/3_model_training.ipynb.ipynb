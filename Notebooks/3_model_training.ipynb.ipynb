{
 "cells": [
  {
   "cell_type": "markdown",
   "metadata": {
    "application/vnd.databricks.v1+cell": {
     "cellMetadata": {},
     "inputWidgets": {},
     "nuid": "6c19f592-4283-43eb-aa42-d200a83e36ae",
     "showTitle": false,
     "tableResultSettingsMap": {},
     "title": ""
    }
   },
   "source": [
    "# 📦 Step 1: Load the Cleaned Data"
   ]
  },
  {
   "cell_type": "code",
   "execution_count": 0,
   "metadata": {
    "application/vnd.databricks.v1+cell": {
     "cellMetadata": {
      "byteLimit": 2048000,
      "rowLimit": 10000
     },
     "inputWidgets": {},
     "nuid": "cb5ca8c6-0198-45ee-92e2-1e4ebd01817a",
     "showTitle": false,
     "tableResultSettingsMap": {},
     "title": ""
    }
   },
   "outputs": [
    {
     "output_type": "stream",
     "name": "stdout",
     "output_type": "stream",
     "text": [
      "+-------+-------------------+------------------+-----------------+-------------------+------------------+------------------+------------------+-----------------+------------------+------------------+------------------+------------------+------------------+-------------------+------------------+-----------------+------------------+------------------+------------------+------------------+------------------+------------------+-------------------+-------------------+--------------------+------------------+-----------------+-------------------+------+-----+\n|   Time|                 V1|                V2|               V3|                 V4|                V5|                V6|                V7|               V8|                V9|               V10|               V11|               V12|               V13|                V14|               V15|              V16|               V17|               V18|               V19|               V20|               V21|               V22|                V23|                V24|                 V25|               V26|              V27|                V28|Amount|Class|\n+-------+-------------------+------------------+-----------------+-------------------+------------------+------------------+------------------+-----------------+------------------+------------------+------------------+------------------+------------------+-------------------+------------------+-----------------+------------------+------------------+------------------+------------------+------------------+------------------+-------------------+-------------------+--------------------+------------------+-----------------+-------------------+------+-----+\n|38659.0|  -1.66269923353899|-0.516579797333491|  1.0941516131317|  0.396696987139876| 0.843325329829051| -1.10694312881838| 0.188347458396184|0.157251487774138| 0.064816929904761|-0.322580295668446|-0.304038734516499| -1.03006919767755| -1.79886517472484|-0.0778482197993358|  1.46119728520396|0.230579136753805| 0.354242090105898|-0.306675687209972|-0.312837700939829|-0.259928541760881|-0.340095676937684|-0.619162080676048|   1.24583229443154|-0.0552279160866246|-0.00742704265951755| 0.147815219100678|0.296323559320289| -0.053522596712246|  4.95|    0|\n|38670.0|-0.0781161697022781| -1.36545203390647| 2.04314316571569|  0.523338359279048|-0.230029655792498| 0.228510853087858|  1.07091400424984| -2.1502062912452|  1.53647206194177|  4.04865490657364|  1.64447549589056|-0.714646622818416|-0.957455280743062|   -2.3584264439339| 0.271319769695812|-1.95298594518087| -1.20462415610327|  1.76230564431404|-0.347305491005595|-0.646206154009582|-0.745937821391917| 0.179819967555815|  0.149958349046072|  0.461185075671749|   -1.46421471005894|-0.903114021464413| -2.7102515761823|  -1.53931307420195|  84.0|    0|\n|38675.0|    -1.570429537316|0.0567328569112461|0.382694929074283|  -2.04366905461058|  0.40242909233414| 0.120214335051402|-0.382848132348282|-1.73292999713933| -1.06097964159691| 0.737836027146159| 0.134771302599059|-0.132301098776422| 0.852692050204529| -0.400877138911475|-0.642558541475467| 1.86961231825301|-0.745294533213661|-0.460793242297507| 0.774626819099059|-0.861126655265429|  1.62690391402129| 0.225199423417082|  0.506413261640583| -0.949024326922367|  -0.177814279367482|-0.393225652095815| 0.11451422745576|-0.0132700511816562|  15.0|    0|\n|38710.0| -0.480897566153696| 0.903837310639756| 1.64729465361282|-0.0847743486252107|-0.206636189440574|-0.724263543087829| 0.522942028279451|0.133589063941684|-0.494450180496634|  -0.1092483847646|  1.28599938574449|0.0961731069429012| -1.23755899794693|  0.580234847898499| 0.259178368620029|0.389030032946588|-0.503856819643839| 0.217934512116109|   0.2340583215039|0.0326785644969274|-0.174600065010451| -0.53947075578483| 0.0087893175380529|  0.484766675958208|  -0.289444720623293| 0.044937356589936|0.253533834015072|  0.110722528032203|  3.59|    0|\n|38749.0|  -1.50108937733573| 0.981839090651461| 2.11100871251259|   1.41962480235557|-0.732852336325161|  1.13036795703176| 0.102389273970663|0.537708022922126| 0.925644670766134|  0.62640858275477| 0.766598284377277|  1.27055802282938|-0.557353837316549| -0.784467712411195| -1.97078957741248|-1.52670776988179| 0.953709232654073|-0.661391701822436|  1.43157992197819| 0.408907880615992|-0.446198300499724|-0.404394223421113|-0.0149990753254775|  0.228768578791897|  0.0560590705492607|-0.381209365072742|0.795071885633767|  0.403521809522705| 69.69|    0|\n+-------+-------------------+------------------+-----------------+-------------------+------------------+------------------+------------------+-----------------+------------------+------------------+------------------+------------------+------------------+-------------------+------------------+-----------------+------------------+------------------+------------------+------------------+------------------+------------------+-------------------+-------------------+--------------------+------------------+-----------------+-------------------+------+-----+\nonly showing top 5 rows\n\n"
     ]
    }
   ],
   "source": [
    "# Load balanced dataset from Parquet\n",
    "df = spark.read.parquet(\"dbfs:/FileStore/tables/creditcard_balanced.parquet\")\n",
    "\n",
    "# Register it as a SQL view\n",
    "df.createOrReplaceTempView(\"creditcard_balanced\")\n",
    "\n",
    "# Preview using SQL\n",
    "df_sql = spark.sql(\"SELECT * FROM creditcard_balanced\")\n",
    "df_sql.show(5)"
   ]
  },
  {
   "cell_type": "markdown",
   "metadata": {
    "application/vnd.databricks.v1+cell": {
     "cellMetadata": {},
     "inputWidgets": {},
     "nuid": "7e3ae70f-6b3f-49ef-bbf4-a96117d75efb",
     "showTitle": false,
     "tableResultSettingsMap": {},
     "title": ""
    }
   },
   "source": [
    "# 🔀 Step 2: Train/Test Split"
   ]
  },
  {
   "cell_type": "code",
   "execution_count": 0,
   "metadata": {
    "application/vnd.databricks.v1+cell": {
     "cellMetadata": {
      "byteLimit": 2048000,
      "rowLimit": 10000
     },
     "inputWidgets": {},
     "nuid": "6c1541d5-fbb6-4a2d-8097-30ac785fe892",
     "showTitle": false,
     "tableResultSettingsMap": {},
     "title": ""
    }
   },
   "outputs": [],
   "source": [
    "train_df, test_df = df.randomSplit([0.8,0.2], seed=42)"
   ]
  },
  {
   "cell_type": "markdown",
   "metadata": {
    "application/vnd.databricks.v1+cell": {
     "cellMetadata": {},
     "inputWidgets": {},
     "nuid": "ba80d93a-108a-4ee2-b4e7-06f4ddb7a51c",
     "showTitle": false,
     "tableResultSettingsMap": {},
     "title": ""
    }
   },
   "source": [
    "# ⚙️ Step 3: Feature Engineering Pipeline"
   ]
  },
  {
   "cell_type": "code",
   "execution_count": 0,
   "metadata": {
    "application/vnd.databricks.v1+cell": {
     "cellMetadata": {
      "byteLimit": 2048000,
      "rowLimit": 10000
     },
     "inputWidgets": {},
     "nuid": "1e2afd2d-a468-45b5-bd5b-8385a816a14d",
     "showTitle": false,
     "tableResultSettingsMap": {},
     "title": ""
    }
   },
   "outputs": [],
   "source": [
    "from pyspark.ml.feature import VectorAssembler\n",
    "from pyspark.ml import Pipeline\n",
    "\n",
    "features = [col for col in df.columns if col not in ['Time', 'Class']]\n",
    "assembler = VectorAssembler(inputCols=features,outputCol=\"features\")"
   ]
  },
  {
   "cell_type": "markdown",
   "metadata": {
    "application/vnd.databricks.v1+cell": {
     "cellMetadata": {},
     "inputWidgets": {},
     "nuid": "783a87a7-234a-4695-9328-ce9c6e069ef4",
     "showTitle": false,
     "tableResultSettingsMap": {},
     "title": ""
    }
   },
   "source": [
    "# 📊 Step 4: Train a Logistic Regression Model"
   ]
  },
  {
   "cell_type": "code",
   "execution_count": 0,
   "metadata": {
    "application/vnd.databricks.v1+cell": {
     "cellMetadata": {
      "byteLimit": 2048000,
      "rowLimit": 10000
     },
     "inputWidgets": {},
     "nuid": "be2efed1-a9c3-4707-bc11-6d9346e24860",
     "showTitle": false,
     "tableResultSettingsMap": {},
     "title": ""
    }
   },
   "outputs": [],
   "source": [
    "from pyspark.ml.classification import LogisticRegression\n",
    "\n",
    "lr = LogisticRegression(featuresCol=\"features\", labelCol=\"Class\")\n",
    "\n",
    "pipeline = Pipeline(stages=[assembler, lr])\n",
    "lr_model = pipeline.fit(train_df)"
   ]
  },
  {
   "cell_type": "markdown",
   "metadata": {
    "application/vnd.databricks.v1+cell": {
     "cellMetadata": {},
     "inputWidgets": {},
     "nuid": "e646fcb1-e7af-4203-bef9-26e2ec5cd49b",
     "showTitle": false,
     "tableResultSettingsMap": {},
     "title": ""
    }
   },
   "source": [
    "# 🌲 Step 5: Train a Random Forest (for comparison)"
   ]
  },
  {
   "cell_type": "code",
   "execution_count": 0,
   "metadata": {
    "application/vnd.databricks.v1+cell": {
     "cellMetadata": {
      "byteLimit": 2048000,
      "rowLimit": 10000
     },
     "inputWidgets": {},
     "nuid": "5093d930-b25d-412d-8fa5-5d0c9b03c67f",
     "showTitle": false,
     "tableResultSettingsMap": {},
     "title": ""
    }
   },
   "outputs": [],
   "source": [
    "from pyspark.ml.classification import RandomForestClassifier\n",
    "rf = RandomForestClassifier(featuresCol=\"features\", labelCol=\"Class\")\n",
    "pipeline = Pipeline(stages=[assembler, rf])\n",
    "rf_model = pipeline.fit(train_df)"
   ]
  },
  {
   "cell_type": "markdown",
   "metadata": {
    "application/vnd.databricks.v1+cell": {
     "cellMetadata": {},
     "inputWidgets": {},
     "nuid": "81eedb58-dfb5-4061-87d1-dd822062c44e",
     "showTitle": false,
     "tableResultSettingsMap": {},
     "title": ""
    }
   },
   "source": [
    "# 📈 Step 6: Evaluate Models"
   ]
  },
  {
   "cell_type": "code",
   "execution_count": 0,
   "metadata": {
    "application/vnd.databricks.v1+cell": {
     "cellMetadata": {
      "byteLimit": 2048000,
      "rowLimit": 10000
     },
     "inputWidgets": {},
     "nuid": "d4588bf5-76eb-4ef0-9a55-de9f2bc3be99",
     "showTitle": false,
     "tableResultSettingsMap": {},
     "title": ""
    }
   },
   "outputs": [
    {
     "output_type": "stream",
     "name": "stdout",
     "output_type": "stream",
     "text": [
      "Logistic Regression AUC:  0.9848\nRandom Forest AUC:  0.9859\n"
     ]
    }
   ],
   "source": [
    "from pyspark.ml.evaluation import BinaryClassificationEvaluator\n",
    "\n",
    "predictions_lr = lr_model.transform(test_df)\n",
    "predictions_rf = rf_model.transform(test_df)\n",
    "\n",
    "evaluator = BinaryClassificationEvaluator(labelCol=\"Class\", metricName=\"areaUnderROC\")\n",
    "\n",
    "auc_lr = evaluator.evaluate(predictions_lr)\n",
    "auc_rf = evaluator.evaluate(predictions_rf)\n",
    "\n",
    "print(f\"Logistic Regression AUC: {auc_lr: .4f}\")\n",
    "print(f\"Random Forest AUC: {auc_rf: .4f}\")\n"
   ]
  },
  {
   "cell_type": "markdown",
   "metadata": {
    "application/vnd.databricks.v1+cell": {
     "cellMetadata": {},
     "inputWidgets": {},
     "nuid": "a4361674-ce9d-48dc-b92d-7cb21b8f09dc",
     "showTitle": false,
     "tableResultSettingsMap": {},
     "title": ""
    }
   },
   "source": [
    "AUC (Area Under the Curve)\n",
    "Logistic Regression AUC:  0.9848\n",
    "Random Forest AUC:  0.9859\n",
    "\n",
    "Random Forest is performing slightly better than Logistic Regression. "
   ]
  },
  {
   "cell_type": "markdown",
   "metadata": {
    "application/vnd.databricks.v1+cell": {
     "cellMetadata": {},
     "inputWidgets": {},
     "nuid": "93be50a6-d5ea-4659-aa6b-c40816a84006",
     "showTitle": false,
     "tableResultSettingsMap": {},
     "title": ""
    }
   },
   "source": [
    "# 📊 Step 7: Confusion Matrix"
   ]
  },
  {
   "cell_type": "code",
   "execution_count": 0,
   "metadata": {
    "application/vnd.databricks.v1+cell": {
     "cellMetadata": {
      "byteLimit": 2048000,
      "rowLimit": 10000
     },
     "inputWidgets": {},
     "nuid": "023d78b1-f391-45ff-a6e5-51fb009fd182",
     "showTitle": false,
     "tableResultSettingsMap": {},
     "title": ""
    }
   },
   "outputs": [
    {
     "output_type": "stream",
     "name": "stdout",
     "output_type": "stream",
     "text": [
      "+----------+-----+-----+\n|prediction|Class|count|\n+----------+-----+-----+\n|       0.0|    0|  376|\n|       1.0|    0|    1|\n|       0.0|    1|   12|\n|       1.0|    1|   93|\n+----------+-----+-----+\n\n"
     ]
    }
   ],
   "source": [
    "from pyspark.sql.functions import col\n",
    "\n",
    "predictions_rf.select(\"prediction\", \"Class\").groupBy(\"prediction\", \"Class\").count().show()\n"
   ]
  },
  {
   "cell_type": "markdown",
   "metadata": {
    "application/vnd.databricks.v1+cell": {
     "cellMetadata": {},
     "inputWidgets": {},
     "nuid": "c63c364f-8816-4009-b08e-f33f9b5714b1",
     "showTitle": false,
     "tableResultSettingsMap": {},
     "title": ""
    }
   },
   "source": [
    "True Negatives\t  376\t    Legit transactions predicted as legit ✅\n",
    "\n",
    "False Positives\t  1\t      Legit transaction predicted as fraud ❌\n",
    "\n",
    "False Negatives\t  12\t    Fraud predicted as legit ❌\n",
    "\n",
    "True Positives\t  93\t    Fraud correctly predicted ✅"
   ]
  },
  {
   "cell_type": "markdown",
   "metadata": {
    "application/vnd.databricks.v1+cell": {
     "cellMetadata": {},
     "inputWidgets": {},
     "nuid": "da848b8b-eb74-465b-8cee-76c4d8a03084",
     "showTitle": false,
     "tableResultSettingsMap": {},
     "title": ""
    }
   },
   "source": [
    "# 💾 Step 8: Save the Best Model"
   ]
  },
  {
   "cell_type": "code",
   "execution_count": 0,
   "metadata": {
    "application/vnd.databricks.v1+cell": {
     "cellMetadata": {
      "byteLimit": 2048000,
      "rowLimit": 10000
     },
     "inputWidgets": {},
     "nuid": "3bedd1f1-4f43-4074-95c6-a496add8cef1",
     "showTitle": false,
     "tableResultSettingsMap": {},
     "title": ""
    }
   },
   "outputs": [],
   "source": [
    "rf_model.save(\"dbfs:/FileStore/models/rf_fraud_model\")"
   ]
  }
 ],
 "metadata": {
  "application/vnd.databricks.v1+notebook": {
   "computePreferences": null,
   "dashboards": [],
   "environmentMetadata": {
    "base_environment": "",
    "environment_version": "1"
   },
   "inputWidgetPreferences": null,
   "language": "python",
   "notebookMetadata": {
    "pythonIndentUnit": 4
   },
   "notebookName": "3_model_training.ipynb",
   "widgets": {}
  }
 },
 "nbformat": 4,
 "nbformat_minor": 0
}